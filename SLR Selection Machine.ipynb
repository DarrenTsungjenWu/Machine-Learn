{
 "cells": [
  {
   "cell_type": "code",
   "execution_count": 1,
   "metadata": {},
   "outputs": [],
   "source": [
    "from sklearn.linear_model import LogisticRegression\n",
    "from sklearn.feature_selection import SelectFromModel\n",
    "import pandas as pd\n",
    "import numpy as np\n",
    "import matplotlib.pyplot as plt\n",
    "from matplotlib import pyplot\n",
    "import math"
   ]
  },
  {
   "cell_type": "code",
   "execution_count": 2,
   "metadata": {},
   "outputs": [],
   "source": [
    "def SLR_Selection(X, Y, penalty, maximum_feature, solver, max_iter):\n",
    "    \n",
    "    '''\n",
    "    1. Define Logistic Regression model with L1/L2 penalised term for feature selection\n",
    "    2. Fit training data into the defined Logistic Regression.\n",
    "    3. Check the indexes for the selected features and print relevant estimation from it.\n",
    "    4. Draw the coeffcient against the name of selected feature\n",
    "    5. Calculate the resulting probability mapped from exact value for coefficient value/Plot it.\n",
    "    '''\n",
    "    \n",
    "    #Define the logistic regression model\n",
    "    lr_selector = SelectFromModel(LogisticRegression(C = 1, penalty = penalty, solver = solver , max_iter = max_iter),\n",
    "                                 max_features = maximum_feature) # max_features can be used to select asigned number of features.\n",
    "    lr_selector.fit(X, Y)\n",
    "    \n",
    "    #lr_support = lr_selector.get_support() #Obtain the index list of True/False: If true, selected; if false, dropped.     \n",
    "    lr_index = lr_selector.get_support(indices = True) #Translate the index into the corresponding feature names (column index).\n",
    "    #lr_feature = X.iloc[:, lr_support].columns.tolist() #Same as above (list with comma).\n",
    "    print(str(len(lr_index)), 'selected features')\n",
    "    print('Column index for selected features', lr_index) #print the column index, which can be directly used for modelling.\n",
    "    \n",
    "    \n",
    "    #Fit the final selected data into SLR model and obtain estimations.\n",
    "    #X_copy = pd.DataFrame(X.copy())\n",
    "    LR_fit = LogisticRegression(C = 1, penalty = penalty, solver = solver, max_iter = max_iter)\n",
    "    fit = LR_fit.fit(X.iloc[:, lr_index], Y)\n",
    "    \n",
    "    #Estimations\n",
    "    LR_coef = LR_fit.coef_\n",
    "    LR_intercept = LR_fit.intercept_\n",
    "    print('Coefficient List of Selected Features', LR_coef)\n",
    "    print('Intercept = ', LR_intercept)\n",
    "    \n",
    "    #Plot the estimated coefficient.\n",
    "    X_copy = X.copy()\n",
    "    dset = pd.DataFrame()\n",
    "    dset['attr'] = X_copy.columns[lr_index]\n",
    "    dset['Coefficient'] = LR_coef.T #Transform array by replacing column/row by row/column.\n",
    "    dset = dset.sort_values(by = 'Coefficient', ascending=False)\n",
    "\n",
    "    plt.figure(figsize = (9, 12))\n",
    "    plt.yticks(fontsize = 11)\n",
    "    plt.barh(y = dset['attr'], width = dset['Coefficient'], color = '#1976D2')\n",
    "    #plt.title('Test ', fontsize=20, fontweight='bold', pad=20)\n",
    "    plt.xlabel('Coefficient', fontsize = 14, labelpad = 20)\n",
    "    plt.ylabel('Name of Important Features', fontsize = 14, labelpad = 20)\n",
    "    plt.show()\n",
    "    \n",
    "    \n",
    "    #Plot estimated probability\n",
    "    prob = []\n",
    "    for i in range(len(LR_coef.T)):\n",
    "        prob_value = 1/(1 + math.exp(-LR_fit.intercept_ - LR_coef.T[i]))\n",
    "        prob.append(prob_value)\n",
    "        prob_arr = np.array(prob) #Must transform into array to plot against feature neame.\n",
    "\n",
    "    dset['Prob'] = prob_arr\n",
    "    dset = dset.sort_values(by = 'Coefficient', ascending = False)\n",
    "\n",
    "    plt.figure(figsize = (9, 12))\n",
    "    plt.yticks(fontsize = 11)\n",
    "    plt.barh(y = dset['attr'], width=dset['Prob'], color='#1976D2')\n",
    "    #plt.title('Test ', fontsize=20, fontweight='bold', pad=20)\n",
    "    plt.xlabel('P(Y|factor)', fontsize = 14, labelpad = 20)\n",
    "    plt.ylabel('Name of Important Features', fontsize = 14, labelpad=20)\n",
    "    plt.show()\n",
    "    "
   ]
  },
  {
   "cell_type": "code",
   "execution_count": 4,
   "metadata": {},
   "outputs": [],
   "source": [
    "from sklearn.datasets import make_classification\n",
    "\n",
    "X, Y = make_classification(n_samples = 1500, n_features = 30, n_informative = 2, n_redundant = 2, random_state = 1)"
   ]
  },
  {
   "cell_type": "code",
   "execution_count": 5,
   "metadata": {},
   "outputs": [
    {
     "name": "stdout",
     "output_type": "stream",
     "text": [
      "            0         1         2         3         4         5         6   \\\n",
      "0     0.335381 -1.646119  0.485676 -0.080753  0.936889 -0.006544  0.216153   \n",
      "1    -0.182548  1.395151  2.160124 -0.311973  0.336753 -1.999745 -0.854787   \n",
      "2    -0.279944 -0.388095 -1.111913  0.189927  0.861513  0.731192  2.054422   \n",
      "3     0.769702 -2.614803 -1.700530 -2.851070 -0.680370  0.072010  0.264185   \n",
      "4    -0.104761  1.231616  1.242221 -1.331978 -1.214541  1.050352  0.893940   \n",
      "...        ...       ...       ...       ...       ...       ...       ...   \n",
      "1495 -1.320402  0.272432 -0.991135 -1.367078 -1.789993  1.599995 -0.617333   \n",
      "1496  0.941779  1.004332  0.333783  0.756989  0.805805 -0.731870  0.999677   \n",
      "1497  0.833856 -2.175300 -1.466053  0.025271 -0.743147  0.614976 -2.543578   \n",
      "1498 -1.931859  1.113521  1.042303  0.484659 -0.643640 -0.469651  2.054874   \n",
      "1499  1.172772  0.895053  0.894874  0.795263 -0.868970  0.255436  0.218994   \n",
      "\n",
      "            7         8         9   ...        20        21        22  \\\n",
      "0    -0.188703 -0.822894  0.015165  ... -0.874425 -1.264023  0.465623   \n",
      "1     0.551978 -0.620440  0.827959  ... -0.898436  0.304083 -0.940456   \n",
      "2     1.658132  0.620143  2.001051  ... -0.030229  1.541336  0.015269   \n",
      "3    -0.688101 -0.274744 -0.210634  ... -0.801340  0.204798 -0.524165   \n",
      "4     0.129942  0.690934  1.028001  ...  1.157816  0.472772 -0.466843   \n",
      "...        ...       ...       ...  ...       ...       ...       ...   \n",
      "1495 -0.963011 -0.197013  0.480790  ...  0.382407 -0.546797  0.019961   \n",
      "1496  1.911024 -0.147459 -0.072500  ... -0.611091  2.142110 -0.215364   \n",
      "1497 -0.524130  1.769434  1.254201  ...  0.279845 -0.146524 -0.221770   \n",
      "1498  0.021299 -0.245286  1.468860  ...  1.693642  0.168491  0.457742   \n",
      "1499  0.921244 -1.424343  1.671802  ...  0.254236  0.182006  1.473276   \n",
      "\n",
      "            23        24        25        26        27        28        29  \n",
      "0     0.305362 -2.056166 -0.231525 -1.196064 -0.237789 -0.397097  0.520043  \n",
      "1    -0.541270 -0.737021  0.157075 -0.725854  0.096509  0.082204  0.387619  \n",
      "2    -0.319479  0.697751  0.030273 -1.383870 -1.170358  1.510099  1.212867  \n",
      "3    -0.343140 -0.882620 -0.332064  0.286289 -0.687549 -2.698919  0.224605  \n",
      "4     0.339370 -0.009721 -0.058843  0.052246  2.030062 -0.797097 -0.978972  \n",
      "...        ...       ...       ...       ...       ...       ...       ...  \n",
      "1495  0.527823  1.218451 -0.431121  1.776543 -0.063788  1.014546 -1.330872  \n",
      "1496 -0.394970  0.646959 -0.608890 -0.627855 -0.446358 -0.209551 -0.545574  \n",
      "1497 -0.199457 -0.684752  0.938941  0.132957  0.730175 -1.022989 -0.565291  \n",
      "1498 -0.615694  0.069125 -0.494388  0.872992 -1.555137 -0.678332  0.860771  \n",
      "1499  0.307408  0.000539 -0.516173 -0.227658 -2.189352 -1.444627  1.269613  \n",
      "\n",
      "[1500 rows x 30 columns]\n",
      "      0\n",
      "0     0\n",
      "1     0\n",
      "2     0\n",
      "3     0\n",
      "4     1\n",
      "...  ..\n",
      "1495  1\n",
      "1496  1\n",
      "1497  0\n",
      "1498  0\n",
      "1499  1\n",
      "\n",
      "[1500 rows x 1 columns]\n"
     ]
    }
   ],
   "source": [
    "X = pd.DataFrame(X)\n",
    "Y = pd.DataFrame(Y)\n",
    "print(X)\n",
    "print(Y)"
   ]
  },
  {
   "cell_type": "code",
   "execution_count": 36,
   "metadata": {},
   "outputs": [
    {
     "name": "stderr",
     "output_type": "stream",
     "text": [
      "C:\\Users\\ASUS\\anaconda3\\lib\\site-packages\\sklearn\\utils\\validation.py:760: DataConversionWarning: A column-vector y was passed when a 1d array was expected. Please change the shape of y to (n_samples, ), for example using ravel().\n",
      "  y = column_or_1d(y, warn=True)\n"
     ]
    },
    {
     "name": "stdout",
     "output_type": "stream",
     "text": [
      "5 selected features\n",
      "column index for selected features [10 12 13 15 24]\n",
      "Coefficient List of Selected Features [[-0.13854057  0.12337548  0.13879714  2.78539049  0.44452033]]\n",
      "Intercept =  [-0.3608854]\n"
     ]
    },
    {
     "name": "stderr",
     "output_type": "stream",
     "text": [
      "C:\\Users\\ASUS\\anaconda3\\lib\\site-packages\\sklearn\\utils\\validation.py:760: DataConversionWarning: A column-vector y was passed when a 1d array was expected. Please change the shape of y to (n_samples, ), for example using ravel().\n",
      "  y = column_or_1d(y, warn=True)\n"
     ]
    },
    {
     "data": {
      "image/png": "[encoded data removed]",
      "text/plain": [
       "<Figure size 648x864 with 1 Axes>"
      ]
     },
     "metadata": {
      "needs_background": "light"
     },
     "output_type": "display_data"
    },
    {
     "data": {
      "image/png": "[encoded data removed]",
      "text/plain": [
       "<Figure size 648x864 with 1 Axes>"
      ]
     },
     "metadata": {
      "needs_background": "light"
     },
     "output_type": "display_data"
    }
   ],
   "source": [
    "SLR_Selection(X, Y, maximum_feature = 5, solver = 'saga', penalty = 'l1', max_iter = 10000)"
   ]
  }
 ],
 "metadata": {
  "kernelspec": {
   "display_name": "Python 3",
   "language": "python",
   "name": "python3"
  },
  "language_info": {
   "codemirror_mode": {
    "name": "ipython",
    "version": 3
   },
   "file_extension": ".py",
   "mimetype": "text/x-python",
   "name": "python",
   "nbconvert_exporter": "python",
   "pygments_lexer": "ipython3",
   "version": "3.7.6"
  }
 },
 "nbformat": 4,
 "nbformat_minor": 4
}
