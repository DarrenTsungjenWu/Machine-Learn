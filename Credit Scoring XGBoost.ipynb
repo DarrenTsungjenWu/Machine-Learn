{
 "cells": [
  {
   "cell_type": "code",
   "execution_count": 105,
   "metadata": {},
   "outputs": [
    {
     "name": "stdout",
     "output_type": "stream",
     "text": [
      "Collecting graphviz\n",
      "  Downloading graphviz-0.14-py2.py3-none-any.whl (18 kB)\n",
      "Installing collected packages: graphviz\n",
      "Successfully installed graphviz-0.14\n",
      "Note: you may need to restart the kernel to use updated packages.\n"
     ]
    }
   ],
   "source": [
    "pip install graphviz"
   ]
  },
  {
   "cell_type": "code",
   "execution_count": 3,
   "metadata": {},
   "outputs": [
    {
     "name": "stdout",
     "output_type": "stream",
     "text": [
      "Collecting xgboost\n",
      "  Downloading xgboost-1.1.1-py3-none-win_amd64.whl (54.4 MB)\n",
      "Requirement already satisfied: scipy in c:\\users\\asus\\anaconda3\\lib\\site-packages (from xgboost) (1.4.1)\n",
      "Requirement already satisfied: numpy in c:\\users\\asus\\anaconda3\\lib\\site-packages (from xgboost) (1.18.1)\n",
      "Installing collected packages: xgboost\n",
      "Successfully installed xgboost-1.1.1\n",
      "Note: you may need to restart the kernel to use updated packages.\n"
     ]
    }
   ],
   "source": [
    "pip install xgboost"
   ]
  },
  {
   "cell_type": "code",
   "execution_count": 1,
   "metadata": {},
   "outputs": [],
   "source": [
    "import pandas as pd\n",
    "import numpy as np\n",
    "import xgboost as xgb\n",
    "\n",
    "from sklearn.model_selection import train_test_split\n",
    "\n",
    "from sklearn.metrics import accuracy_score\n",
    "from sklearn.metrics import precision_score\n",
    "import sklearn.metrics as metrics\n",
    "from sklearn.model_selection import cross_val_score, cross_validate \n",
    "\n",
    "import matplotlib.pyplot as plt"
   ]
  },
  {
   "cell_type": "markdown",
   "metadata": {},
   "source": [
    "1. First Demo: XGBoost Python Package"
   ]
  },
  {
   "cell_type": "code",
   "execution_count": 3,
   "metadata": {},
   "outputs": [
    {
     "name": "stdout",
     "output_type": "stream",
     "text": [
      "RevolvingUtilizationOfUnsecuredLines    0\n",
      "age                                     0\n",
      "NumberOfTime30-59DaysPastDueNotWorse    0\n",
      "DebtRatio                               0\n",
      "MonthlyIncome_IfNA                      0\n",
      "MonthlyIncome_1                         0\n",
      "MonthlyIncome_2                         0\n",
      "MonthlyIncome_3                         0\n",
      "NumberOfOpenCreditLinesAndLoans         0\n",
      "NumberOfTimes90DaysLate                 0\n",
      "NumberRealEstateLoansOrLines            0\n",
      "NumberOfTime60-89DaysPastDueNotWorse    0\n",
      "NumberOfDependents_impute               0\n",
      "dtype: int64\n"
     ]
    }
   ],
   "source": [
    "#Load the data into DMatrix for use of xgboost\n",
    "df_all = pd.read_csv('cs-training.csv')\n",
    "\n",
    "#Select data we are going to analyse \n",
    "x = df_all.iloc[:, 1:45]\n",
    "x_part = x.iloc[:, [0, 1, 2, 3, 17, 18, 19, 20, 5, 6, 7, 8, 16]]\n",
    "y = df_all.iloc[:, 0]\n",
    "#print(type(x_part))\n",
    "print(x_part.isnull().sum()) #Check if there is NA\n",
    "\n",
    "x_train, x_test, y_train, y_test = train_test_split(x_part, y, test_size = 0.25, random_state=42) \n",
    "#Split training and test set to validate the model.\n",
    "\n",
    "#Put it into DMatrix\n",
    "dtrain = xgb.DMatrix(x_train, y_train)\n",
    "#print(dmatrix)\n",
    "\n",
    "#Create DMatrix form of test set.\n",
    "dtest = xgb.DMatrix(x_test)"
   ]
  },
  {
   "cell_type": "code",
   "execution_count": 4,
   "metadata": {},
   "outputs": [],
   "source": [
    "#XGBoost set the parameters by list\n",
    "param = {'max_depth': 6, 'eta': 1, 'objective': 'binary:logistic'}\n",
    "param['nthread'] = 4\n",
    "param['eval_metric'] = 'auc'\n",
    "\n",
    "#objective can be varied. For multiple classes classfication, multi:softmax will be used \n",
    "#we also need to set num_class(number of classes)\n",
    "#for measuring model performance\n",
    "#print(param)\n",
    "\n",
    "#Put the data and parameter list to the function/model.\n",
    "xgb_tree = xgb.train(param, dtrain) #The list of parameters which have been tuned must be placed at first position.\n",
    "\n",
    "#Make out-sample prediction>>> Put the test set of x (should be dmatrix format) into trained model.\n",
    "ypred_out = xgb_tree.predict(dtest)\n",
    "ypred_in = xgb_tree.predict(dtrain)"
   ]
  },
  {
   "cell_type": "code",
   "execution_count": 5,
   "metadata": {},
   "outputs": [
    {
     "name": "stdout",
     "output_type": "stream",
     "text": [
      "0.9352266666666667\n",
      "0.9409777777777778\n",
      "0.19757575757575757\n",
      "0.25201960005297314\n",
      "AUC of test set prediction= 0.5925\n",
      "AUC of training set prediction = 0.6213\n"
     ]
    },
    {
     "data": {
      "image/png": "[encoded data removed]",
      "text/plain": [
       "<Figure size 216x216 with 1 Axes>"
      ]
     },
     "metadata": {
      "needs_background": "light"
     },
     "output_type": "display_data"
    }
   ],
   "source": [
    "#Measure the model performance\n",
    "adj_ypred_out = (ypred_out > 0.5).astype('int')\n",
    "adj_ypred_in = (ypred_in > 0.5).astype('int')\n",
    "y_test_adj = np.array(y_test)\n",
    "y_train_adj = np.array(y_train)\n",
    "#print(type(adj_ypred_out))\n",
    "#print(type(y_test_adj))\n",
    "#print(adj_ypred_out)\n",
    "\n",
    "###Accuracy \n",
    "#Predict over test set\n",
    "print(accuracy_score(adj_ypred_out, y_test_adj))\n",
    "\n",
    "#Predict over training set\n",
    "print(accuracy_score(adj_ypred_in, y_train_adj))\n",
    "\n",
    "###Precision\n",
    "print(precision_score(adj_ypred_out, y_test_adj))\n",
    "print(precision_score(adj_ypred_in, y_train_adj))\n",
    "\n",
    "###AUC\n",
    "#ROC and AUROC\n",
    "fpr_test, tpr_test, th_test = metrics.roc_curve(y_test_adj, adj_ypred_out)\n",
    "fpr_train, tpr_train, th_train = metrics.roc_curve(y_train_adj, adj_ypred_in)\n",
    "\n",
    "plt.figure(figsize=[3, 3])\n",
    "plt.plot(fpr_test, tpr_test, 'b--')\n",
    "plt.plot(fpr_train, tpr_train, 'r-')\n",
    "plt.title('ROC curve')\n",
    "\n",
    "\n",
    "#AUROC\n",
    "print('AUC of test set prediction= %.4f' %metrics.auc(fpr_test, tpr_test))\n",
    "print('AUC of training set prediction = %.4f' %metrics.auc(fpr_train, tpr_train))\n"
   ]
  },
  {
   "cell_type": "code",
   "execution_count": 6,
   "metadata": {},
   "outputs": [
    {
     "name": "stdout",
     "output_type": "stream",
     "text": [
      "RevolvingUtilizationOfUnsecuredLines    0\n",
      "age                                     0\n",
      "NumberOfTime30-59DaysPastDueNotWorse    0\n",
      "DebtRatio                               0\n",
      "MonthlyIncome_IfNA                      0\n",
      "MonthlyIncome_1                         0\n",
      "MonthlyIncome_2                         0\n",
      "MonthlyIncome_3                         0\n",
      "NumberOfOpenCreditLinesAndLoans         0\n",
      "NumberOfTimes90DaysLate                 0\n",
      "NumberRealEstateLoansOrLines            0\n",
      "NumberOfTime60-89DaysPastDueNotWorse    0\n",
      "NumberOfDependents_impute               0\n",
      "dtype: int64\n",
      "   train-auc-mean  train-auc-std  test-auc-mean  test-auc-std\n",
      "0        0.851909       0.000752       0.847793      0.008758\n",
      "1        0.857809       0.000609       0.851263      0.008777\n",
      "2        0.865024       0.001212       0.855594      0.008437\n",
      "3        0.870485       0.000875       0.857387      0.009655\n",
      "4        0.874031       0.000717       0.856775      0.009072\n",
      "5        0.876813       0.000836       0.855991      0.008974\n",
      "6        0.879032       0.001249       0.855084      0.008439\n",
      "7        0.880896       0.001290       0.854530      0.008807\n",
      "8        0.882493       0.001250       0.853394      0.008911\n",
      "9        0.884163       0.001206       0.852085      0.009146\n"
     ]
    }
   ],
   "source": [
    "###Cross validation\n",
    "\n",
    "#For cross validation, we would like to do n-fold validaitons in training data to obtain the better-tuned or best-found models.\n",
    "#And test set is holded out for further test for final best-found models.\n",
    "#Load the data into DMatrix for use of xgboost\n",
    "df_all = pd.read_csv('cs-training.csv')\n",
    "\n",
    "#Select data we are going to analyse \n",
    "x = df_all.iloc[:, 1:45]\n",
    "x_part = x.iloc[:, [0, 1, 2, 3, 17, 18, 19, 20, 5, 6, 7, 8, 16]]\n",
    "y = df_all.iloc[:, 0]\n",
    "#print(type(x_part))\n",
    "print(x_part.isnull().sum()) #Check if there is NA\n",
    "\n",
    "\n",
    "#Put it into DMatrix\n",
    "dtrain = xgb.DMatrix(x_train, y_train)\n",
    "#print(dmatrix)\n",
    "\n",
    "#Create DMatrix form of test set.\n",
    "dtest = xgb.DMatrix(x_test)\n",
    "\n",
    "### Cross Validation\n",
    "#If we would like to cross validate xgb module, consider xgb.cv()\n",
    "cvresult = xgb.cv(param, dtrain, nfold= 15, metrics='auc')\n",
    "\n",
    "print(cvresult)\n"
   ]
  },
  {
   "cell_type": "markdown",
   "metadata": {},
   "source": [
    "2. Second Demo: Sklearn.XGBClassifier() "
   ]
  },
  {
   "cell_type": "code",
   "execution_count": 2,
   "metadata": {},
   "outputs": [],
   "source": [
    "from xgboost.sklearn import XGBClassifier\n",
    "from sklearn.model_selection import cross_validate "
   ]
  },
  {
   "cell_type": "code",
   "execution_count": 3,
   "metadata": {},
   "outputs": [
    {
     "data": {
      "text/plain": [
       "{'objective': 'binary:logistic',\n",
       " 'base_score': None,\n",
       " 'booster': None,\n",
       " 'colsample_bylevel': None,\n",
       " 'colsample_bynode': None,\n",
       " 'colsample_bytree': None,\n",
       " 'gamma': None,\n",
       " 'gpu_id': None,\n",
       " 'importance_type': 'gain',\n",
       " 'interaction_constraints': None,\n",
       " 'learning_rate': None,\n",
       " 'max_delta_step': None,\n",
       " 'max_depth': None,\n",
       " 'min_child_weight': None,\n",
       " 'missing': nan,\n",
       " 'monotone_constraints': None,\n",
       " 'n_estimators': 100,\n",
       " 'n_jobs': None,\n",
       " 'num_parallel_tree': None,\n",
       " 'random_state': None,\n",
       " 'reg_alpha': None,\n",
       " 'reg_lambda': None,\n",
       " 'scale_pos_weight': None,\n",
       " 'subsample': None,\n",
       " 'tree_method': None,\n",
       " 'validate_parameters': None,\n",
       " 'verbosity': None}"
      ]
     },
     "execution_count": 3,
     "metadata": {},
     "output_type": "execute_result"
    }
   ],
   "source": [
    "# Load the dataset\n",
    "df_all = pd.read_csv('cs-training.csv')\n",
    "\n",
    "#Select data we are going to analyse \n",
    "x = df_all.iloc[:, 1:45]\n",
    "x_part = x.iloc[:, [0, 1, 2, 3, 17, 18, 19, 20, 5, 6, 7, 8, 16]]\n",
    "y = df_all.iloc[:, 0]\n",
    "\n",
    "# Assign the model (the most orignial model)\n",
    "clf_xgb = XGBClassifier()\n",
    "clf_xgb.get_params() #Get the default settings of xgb model."
   ]
  },
  {
   "cell_type": "code",
   "execution_count": 5,
   "metadata": {},
   "outputs": [],
   "source": [
    "#Set the final model we want in this stage.\n",
    "dclf_xgb = XGBClassifier(objective = 'binary:logistic', gamma = 0, n_estimators = 100, max_depth = 6, \n",
    "                        learning_rate = 1, nthread = 4)\n",
    "#Note: we tune the parameters to those similar to xgb() part.\n",
    "\n",
    "#Split training and test set\n",
    "x_train, x_test, y_train, y_test = train_test_split(x_part, y, test_size = 0.25, random_state=42)\n",
    "\n",
    "#Fit the determined model to the data\n",
    "dclf_xgb.fit(x_train, y_train)\n",
    "\n",
    "#Preidct over training and test set\n",
    "pred_in = dclf_xgb.predict(x_train)\n",
    "\n",
    "pred_out = dclf_xgb.predict(x_test)\n"
   ]
  },
  {
   "cell_type": "code",
   "execution_count": 7,
   "metadata": {},
   "outputs": [
    {
     "name": "stdout",
     "output_type": "stream",
     "text": [
      "Accuracy of training set prediction: 0.9589866666666667\n",
      "Accuracy of test set prediction: 0.9295466666666666\n",
      "Precision of training set prediction: 0.8515681110845104\n",
      "Precision of test set prediction: 0.43532145623547636\n",
      "AUC of test set prediction= 0.6031\n",
      "AUC of training set prediction = 0.7326\n"
     ]
    },
    {
     "data": {
      "image/png": "[encoded data removed]",
      "text/plain": [
       "<Figure size 216x216 with 1 Axes>"
      ]
     },
     "metadata": {
      "needs_background": "light"
     },
     "output_type": "display_data"
    }
   ],
   "source": [
    "# Measure the training and testing performance using accuracy, precision and AUC\n",
    "\n",
    "#Accuracy\n",
    "print('Accuracy of training set prediction:', accuracy_score(y_train, pred_in))\n",
    "print('Accuracy of test set prediction:', accuracy_score(y_test, pred_out))\n",
    "\n",
    "#Precision\n",
    "print('Precision of training set prediction:', precision_score(y_train, pred_in))\n",
    "print('Precision of test set prediction:', precision_score(y_test, pred_out))\n",
    "\n",
    "\n",
    "###AUC\n",
    "#ROC and AUROC\n",
    "fpr_test, tpr_test, th_test = metrics.roc_curve(y_test, pred_out)\n",
    "fpr_train, tpr_train, th_train = metrics.roc_curve(y_train, pred_in)\n",
    "\n",
    "plt.figure(figsize=[3, 3])\n",
    "plt.plot(fpr_test, tpr_test, 'b--')\n",
    "plt.plot(fpr_train, tpr_train, 'r-')\n",
    "plt.title('ROC curve')\n",
    "\n",
    "\n",
    "#AUROC\n",
    "print('AUC of test set prediction= %.4f' %metrics.auc(fpr_test, tpr_test))\n",
    "print('AUC of training set prediction = %.4f' %metrics.auc(fpr_train, tpr_train))\n"
   ]
  },
  {
   "cell_type": "markdown",
   "metadata": {},
   "source": [
    "Cross Validation"
   ]
  },
  {
   "cell_type": "code",
   "execution_count": 8,
   "metadata": {},
   "outputs": [
    {
     "name": "stdout",
     "output_type": "stream",
     "text": [
      "{'fit_time': array([ 9.27060652,  8.99134994,  9.70561171, 10.07190251,  6.62972426,\n",
      "        7.45627284, 10.05198336,  9.59284997,  8.85247016,  9.71260571,\n",
      "        9.01752758,  8.73211789,  9.20659041,  9.25545907,  9.33449435]), 'score_time': array([0.08948946, 0.07932925, 0.07008362, 0.07622361, 0.06569457,\n",
      "       0.08632517, 0.08581138, 0.06967163, 0.04812789, 0.0682447 ,\n",
      "       0.07315493, 0.07046676, 0.07287884, 0.07605267, 0.07877088]), 'test_precision': array([0.41877256, 0.42168675, 0.39163498, 0.41132075, 0.46460177,\n",
      "       0.46      , 0.4296875 , 0.40740741, 0.39285714, 0.44520548,\n",
      "       0.48809524, 0.4229249 , 0.43928571, 0.44444444, 0.41696113]), 'test_roc_auc': array([0.81377989, 0.82252874, 0.80320663, 0.8143679 , 0.81808776,\n",
      "       0.80219554, 0.81314528, 0.82186274, 0.82456668, 0.82504373,\n",
      "       0.82778694, 0.81631794, 0.83059594, 0.80450564, 0.81147802])}\n"
     ]
    }
   ],
   "source": [
    "### Cross validation\n",
    "#Another method for cross validation: \n",
    "#cross_val_score(model, training_data, cv = n, scoring = 'auc')\n",
    "#TypeError: estimator should be an estimator implementing 'fit' method\n",
    "#XGBClassifier() can be implemented by this using .fit().\n",
    "\n",
    "# We use the training set which we split from 75% of original data to do cross validation, but not all original dataset.\n",
    "# We also leave test set alone for future model test when parameter and feature are done.\n",
    "\n",
    "cv = cross_validate(dclf_xgb, x_train, y_train, cv = 15,\n",
    "                   scoring = ('precision', 'roc_auc'))\n",
    "\n",
    "print(cv)\n",
    "\n",
    "#Note:\n",
    "#'fit_time' means the time for fitting the estimator on the train set for each cv split.\n",
    "#'score_time' means the time for scoring the estimator on the test set for each cv split. \n",
    "#Note time for scoring on the \"train set\" is not included even if return_train_score is set to True"
   ]
  },
  {
   "cell_type": "code",
   "execution_count": 17,
   "metadata": {},
   "outputs": [
    {
     "name": "stdout",
     "output_type": "stream",
     "text": [
      "Precision of 15-fold validation on test: [0.41877256 0.42168675 0.39163498 0.41132075 0.46460177 0.46\n",
      " 0.4296875  0.40740741 0.39285714 0.44520548 0.48809524 0.4229249\n",
      " 0.43928571 0.44444444 0.41696113]\n",
      "Precision of 15-fold validation on test: [0.81377989 0.82252874 0.80320663 0.8143679  0.81808776 0.80219554\n",
      " 0.81314528 0.82186274 0.82456668 0.82504373 0.82778694 0.81631794\n",
      " 0.83059594 0.80450564 0.81147802]\n",
      "Mean Precision: 0.43032571828344984\n",
      "Mean AUC: 0.8166312908460043\n"
     ]
    }
   ],
   "source": [
    "#Check the result form of cv\n",
    "\n",
    "#Use the name of array to call the testing metrics\n",
    "print('Precision of 15-fold validation on test:', cv['test_precision'])\n",
    "print('Precision of 15-fold validation on test:', cv['test_roc_auc'])\n",
    "\n",
    "#Take the mean of the metrics over 15 times validation\n",
    "print('Mean Precision:', cv['test_precision'].mean())\n",
    "print('Mean AUC:', cv['test_roc_auc'].mean())"
   ]
  },
  {
   "cell_type": "markdown",
   "metadata": {},
   "source": [
    "Grid Search"
   ]
  },
  {
   "cell_type": "code",
   "execution_count": 15,
   "metadata": {},
   "outputs": [],
   "source": [
    "############### Grid Search CrossValidation ###############\n",
    "### Grid parameters and do cross-validation over them to obtain a better conbination of parameters.\n",
    "### This is done here by using training set, while test set is left for being predicted by final, well-tuned parameters/model.\n",
    "\n",
    "from sklearn.model_selection import GridSearchCV\n",
    "from sklearn.metrics import classification_report"
   ]
  },
  {
   "cell_type": "code",
   "execution_count": 6,
   "metadata": {},
   "outputs": [],
   "source": [
    "\n",
    "#Set up the parameters to test\n",
    "param_to_test = {'n_estimators':range(100, 110, 2),\n",
    "                 'max_depth':range(6, 12, 2)}\n",
    "\n",
    "grid_cv = GridSearchCV(estimator = dclf_xgb, param_grid = param_to_test, scoring = 'roc_auc', cv = 5,\n",
    "                      refit = True) #scoring=('roc_auc', 'precision') to test multi-metrics but 'refit' must be False in this case.\n",
    "\n",
    "#Run fit of all sets of parameters\n",
    "grid_cv_fit = grid_cv.fit(x_train, y_train)\n",
    "#This will take time to validate various combination of grided parameters.\n",
    "\n"
   ]
  },
  {
   "cell_type": "code",
   "execution_count": 18,
   "metadata": {},
   "outputs": [
    {
     "name": "stdout",
     "output_type": "stream",
     "text": [
      "{'max_depth': 6, 'n_estimators': 100}\n",
      "[{'max_depth': 6, 'n_estimators': 100}, {'max_depth': 6, 'n_estimators': 102}, {'max_depth': 6, 'n_estimators': 104}, {'max_depth': 6, 'n_estimators': 106}, {'max_depth': 6, 'n_estimators': 108}, {'max_depth': 8, 'n_estimators': 100}, {'max_depth': 8, 'n_estimators': 102}, {'max_depth': 8, 'n_estimators': 104}, {'max_depth': 8, 'n_estimators': 106}, {'max_depth': 8, 'n_estimators': 108}, {'max_depth': 10, 'n_estimators': 100}, {'max_depth': 10, 'n_estimators': 102}, {'max_depth': 10, 'n_estimators': 104}, {'max_depth': 10, 'n_estimators': 106}, {'max_depth': 10, 'n_estimators': 108}]\n",
      "0.814 (+/-0.010) for {'max_depth': 6, 'n_estimators': 100}\n",
      "0.814 (+/-0.010) for {'max_depth': 6, 'n_estimators': 102}\n",
      "0.814 (+/-0.010) for {'max_depth': 6, 'n_estimators': 104}\n",
      "0.814 (+/-0.010) for {'max_depth': 6, 'n_estimators': 106}\n",
      "0.813 (+/-0.010) for {'max_depth': 6, 'n_estimators': 108}\n",
      "0.797 (+/-0.012) for {'max_depth': 8, 'n_estimators': 100}\n",
      "0.797 (+/-0.013) for {'max_depth': 8, 'n_estimators': 102}\n",
      "0.797 (+/-0.013) for {'max_depth': 8, 'n_estimators': 104}\n",
      "0.797 (+/-0.013) for {'max_depth': 8, 'n_estimators': 106}\n",
      "0.797 (+/-0.013) for {'max_depth': 8, 'n_estimators': 108}\n",
      "0.791 (+/-0.007) for {'max_depth': 10, 'n_estimators': 100}\n",
      "0.791 (+/-0.007) for {'max_depth': 10, 'n_estimators': 102}\n",
      "0.791 (+/-0.007) for {'max_depth': 10, 'n_estimators': 104}\n",
      "0.791 (+/-0.007) for {'max_depth': 10, 'n_estimators': 106}\n",
      "0.791 (+/-0.007) for {'max_depth': 10, 'n_estimators': 108}\n",
      "\n"
     ]
    }
   ],
   "source": [
    "###Show the results of Grid CV\n",
    "\n",
    "#See the best parameter grids\n",
    "print(grid_cv.best_params_)\n",
    "\n",
    "#print(grid_cv.cv_results_) #To see the full results from each combination of parameters\n",
    "\n",
    "#See mean and standard error for the validated results\n",
    "means = grid_cv.cv_results_['mean_test_score']\n",
    "stds = grid_cv.cv_results_['std_test_score']\n",
    "\n",
    "print(grid_cv.cv_results_['params']) #Some messy results.\n",
    "\n",
    "#Integrate the validation process and results in a table.\n",
    "for mean, std, params in zip(means, stds, grid_cv.cv_results_['params']):\n",
    "        print(\"%0.3f (+/-%0.03f) for %r\"\n",
    "              % (mean, std * 2, params))\n",
    "print()\n"
   ]
  },
  {
   "cell_type": "code",
   "execution_count": 22,
   "metadata": {},
   "outputs": [
    {
     "name": "stdout",
     "output_type": "stream",
     "text": [
      "Precision: Out-sample Prediction based on best-found parameters of Grid CV: 0.22707070707070706\n",
      "Precision: In-sample Prediction based on best-found parameters of Grid CV: 0.4710634353065819\n",
      "AUC of test set prediction= 0.6031\n",
      "AUC of training set prediction = 0.7326\n",
      "              precision    recall  f1-score   support\n",
      "\n",
      "           0       0.98      0.95      0.96     36209\n",
      "           1       0.23      0.44      0.30      1291\n",
      "\n",
      "    accuracy                           0.93     37500\n",
      "   macro avg       0.60      0.69      0.63     37500\n",
      "weighted avg       0.95      0.93      0.94     37500\n",
      "\n"
     ]
    },
    {
     "data": {
      "image/png": "[encoded data removed]",
      "text/plain": [
       "<Figure size 216x216 with 1 Axes>"
      ]
     },
     "metadata": {
      "needs_background": "light"
     },
     "output_type": "display_data"
    }
   ],
   "source": [
    "### Grid CV Prediction and Measurement.\n",
    "\n",
    "grid_cv_pred_out = grid_cv.predict(x_test) #Call predict on the estimator with the best found parameters.\n",
    "print('Precision: Out-sample Prediction based on best-found parameters of Grid CV:', \n",
    "      precision_score(grid_cv_pred_out, y_test))\n",
    "\n",
    "grid_cv_pred_in = grid_cv.predict(x_train)\n",
    "print('Precision: In-sample Prediction based on best-found parameters of Grid CV:', \n",
    "      precision_score(grid_cv_pred_in, y_train))\n",
    "\n",
    "###AUC\n",
    "#ROC and AUROC\n",
    "fpr_test, tpr_test, th_test = metrics.roc_curve(y_test, grid_cv_pred)\n",
    "fpr_train, tpr_train, th_train = metrics.roc_curve(y_train, pred_in)\n",
    "\n",
    "plt.figure(figsize=[3, 3])\n",
    "plt.plot(fpr_test, tpr_test, 'b--')\n",
    "plt.plot(fpr_train, tpr_train, 'r-')\n",
    "plt.title('ROC curve')\n",
    "\n",
    "#AUROC\n",
    "print('AUC of test set prediction= %.4f' %metrics.auc(fpr_test, tpr_test))\n",
    "print('AUC of training set prediction = %.4f' %metrics.auc(fpr_train, tpr_train))\n",
    "\n",
    "###Classification Report: Model performance of predict/identify classes over 3 metrics.\n",
    "print(classification_report(grid_cv_pred, y_test))\n"
   ]
  },
  {
   "cell_type": "code",
   "execution_count": null,
   "metadata": {},
   "outputs": [],
   "source": [
    "'''\n",
    "xgb_tree.save_model('0001.model')\n",
    "xgb_tree = xgb.Booster({'nthread': 4}) \n",
    "xgb_tree.load_model('model.bin')\n",
    "xgb.plot_importance()\n",
    "'''"
   ]
  },
  {
   "cell_type": "code",
   "execution_count": null,
   "metadata": {},
   "outputs": [],
   "source": [
    "'''\n",
    "from graphviz import Source\n",
    "xgb_tree.dump_model('dump.raw.txt')\n",
    "xgb.plot_tree(xgb_tree, num_trees=2)\n",
    "'''\n"
   ]
  }
 ],
 "metadata": {
  "kernelspec": {
   "display_name": "Python 3",
   "language": "python",
   "name": "python3"
  },
  "language_info": {
   "codemirror_mode": {
    "name": "ipython",
    "version": 3
   },
   "file_extension": ".py",
   "mimetype": "text/x-python",
   "name": "python",
   "nbconvert_exporter": "python",
   "pygments_lexer": "ipython3",
   "version": "3.7.6"
  }
 },
 "nbformat": 4,
 "nbformat_minor": 4
}
