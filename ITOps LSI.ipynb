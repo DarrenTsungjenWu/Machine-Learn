{
 "cells": [
  {
   "cell_type": "code",
   "execution_count": 1,
   "metadata": {},
   "outputs": [],
   "source": [
    "from collections import defaultdict\n",
    "from gensim import corpora\n",
    "from gensim.parsing.preprocessing import remove_stopwords\n",
    "import numpy as np\n",
    "import os\n",
    "import pandas as pd"
   ]
  },
  {
   "cell_type": "code",
   "execution_count": 2,
   "metadata": {},
   "outputs": [
    {
     "data": {
      "text/plain": [
       "['Analysts had forecast that “Cyberpunk” would sell anywhere from 18 million to 25 million copies in its first month.',\n",
       " 'Cyberpunk is the biggest and most expensive project yet for the more than two-decade-old videogame company.',\n",
       " 'It is unusual for game publishers to suggest players seek refunds for their big-budget releases.Several other prominent developers postponed games this year, citing work-from-home challenges caused by the health crisis as a key factor.',\n",
       " 'The company has only one other major franchise, The Witcher, and its last major release is now five years old.']"
      ]
     },
     "execution_count": 2,
     "metadata": {},
     "output_type": "execute_result"
    }
   ],
   "source": [
    "#Create a document, which is in list this case\n",
    "row_doc = [\"Analysts had forecast that “Cyberpunk” would sell anywhere from 18 million to 25 million copies in its first month.\",\n",
    "           \"Cyberpunk is the biggest and most expensive project yet for the more than two-decade-old videogame company.\",\n",
    "           \"It is unusual for game publishers to suggest players seek refunds for their big-budget releases.\"\n",
    "           \"Several other prominent developers postponed games this year, citing work-from-home challenges caused by the health crisis as a key factor.\",\n",
    "           \"The company has only one other major franchise, The Witcher, and its last major release is now five years old.\"\n",
    "]\n",
    "print(row_doc)\n",
    "\n",
    "#While in str-like objects in lsi data processing, it would be more convenient to use pd.Series data \n",
    "#to call relevenat processing function as shwon in follwoing codes"
   ]
  },
  {
   "cell_type": "code",
   "execution_count": 6,
   "metadata": {},
   "outputs": [
    {
     "name": "stdout",
     "output_type": "stream",
     "text": [
      "<class 'str'>\n"
     ]
    }
   ],
   "source": [
    "print(type(row_doc[0]))"
   ]
  },
  {
   "cell_type": "markdown",
   "metadata": {},
   "source": [
    "Data Preprocessing:\n",
    "Some approaches"
   ]
  },
  {
   "cell_type": "code",
   "execution_count": 90,
   "metadata": {},
   "outputs": [
    {
     "name": "stdout",
     "output_type": "stream",
     "text": [
      "Analysts had forecast that “Cyberpunk” would sell anywhere from 18 million to 25 million copies in its first month.\n",
      "['analysts', 'forecast', '“cyberpunk”', 'sell', '18', 'million', '25', 'million', 'copies', 'month.']\n",
      "--------------------------------------------------------\n",
      "[['analysts', 'forecast', '“cyberpunk”', 'sell', '18', 'million', '25', 'million', 'copies', 'month.'], ['cyberpunk', 'biggest', 'expensive', 'project', 'two-decade-old', 'videogame', 'company.'], ['unusual', 'game', 'publishers', 'suggest', 'players', 'seek', 'refunds', 'big-budget', 'releases.several', 'prominent', 'developers', 'postponed', 'games', 'year,', 'citing', 'work-from-home', 'challenges', 'caused', 'health', 'crisis', 'key', 'factor.'], ['company', 'major', 'franchise,', 'witcher,', 'major', 'release', 'years', 'old.']]\n"
     ]
    }
   ],
   "source": [
    "#1. Process the row document\n",
    "#We consider series object to make it easily processible:\n",
    "row_doc_ser = pd.Series(row_doc)\n",
    "\n",
    "#1a. Approach 1: Step by step \n",
    "#replace \",\" with \"\" so that no comma points ever in the documents\n",
    "row_doc_ser.replace(\",\", \"\")\n",
    "\n",
    "#Convert string element in the df/series in to lower cases\n",
    "doc_lower = []\n",
    "for i in range(len(row_doc_ser)):\n",
    "    a = row_doc_ser[i].lower()\n",
    "    doc_lower.append(a)\n",
    "#print(doc_lower)\n",
    "\n",
    "doc_vector = []\n",
    "for k in range(len(doc_lower)):\n",
    "    doc_vector.append(remove_stopwords(doc_lower[k]))\n",
    "#print(doc_vector)\n",
    "\n",
    "doc_vector_split = []\n",
    "for m in range(len(doc_vector)):\n",
    "    doc_vector_split.append(doc_vector[m].split())\n",
    "    \n",
    "print(row_doc_ser[0])\n",
    "print(doc_vector_split[0])\n",
    "print('--------------------------------------------------------')\n",
    "print(doc_vector_split)"
   ]
  },
  {
   "cell_type": "code",
   "execution_count": 99,
   "metadata": {},
   "outputs": [
    {
     "name": "stdout",
     "output_type": "stream",
     "text": [
      "[['analysts', 'forecast', '“cyberpunk”', 'sell', '18', 'million', '25', 'million', 'copies', 'month.'], ['cyberpunk', 'biggest', 'expensive', 'project', 'two-decade-old', 'videogame', 'company.'], ['it', 'unusual', 'game', 'publishers', 'suggest', 'players', 'seek', 'refunds', 'big-budget', 'releases.several', 'prominent', 'developers', 'postponed', 'games', 'year', 'citing', 'work-from-home', 'challenges', 'caused', 'health', 'crisis', 'key', 'factor.'], ['the', 'company', 'major', 'franchise', 'the', 'witcher', 'major', 'release', 'years', 'old.']]\n"
     ]
    }
   ],
   "source": [
    "#1b. Approach 2\n",
    "#Due to repeated operations on each unique string element in the doc, the codes can be shortened in a single function\n",
    "#Then apply the defined function at one time to obtain final cleansed results\n",
    "\n",
    "#Define a function for cleansing one single element/document \n",
    "def processing_document(element):\n",
    "    processed_element = remove_stopwords(element).lower().replace(\",\", \"\")\n",
    "    processed_element = processed_element.split()\n",
    "    return processed_element\n",
    "\n",
    "doc_vector_split = []\n",
    "for element in row_doc_ser:\n",
    "    a = processing_document(element)\n",
    "    doc_vector_split.append(a)\n",
    "\n",
    "#print(row_doc_ser[0])\n",
    "#print(doc_vector_split[0])\n",
    "print(doc_vector_split)"
   ]
  },
  {
   "cell_type": "code",
   "execution_count": 93,
   "metadata": {},
   "outputs": [
    {
     "name": "stdout",
     "output_type": "stream",
     "text": [
      "[['analysts', 'forecast', '“cyberpunk”', 'sell', '18', 'million', '25', 'million', 'copies', 'month.'], ['cyberpunk', 'biggest', 'expensive', 'project', 'two-decade-old', 'videogame', 'company.'], ['unusual', 'game', 'publishers', 'suggest', 'players', 'seek', 'refunds', 'big-budget', 'releases.several', 'prominent', 'developers', 'postponed', 'games', 'year,', 'citing', 'work-from-home', 'challenges', 'caused', 'health', 'crisis', 'key', 'factor.'], ['company', 'major', 'franchise,', 'witcher,', 'major', 'release', 'years', 'old.']]\n"
     ]
    }
   ],
   "source": [
    "#Approach 3: Simplified the process of creating final vectors\n",
    "def process_document(document):\n",
    "\n",
    "    #Remove stopwords, convert to lower case and remove \"?\" character\n",
    "    cleaned_document = remove_stopwords(document.lower()).replace(\"?\",\"\")  \n",
    "    return cleaned_document.split()\n",
    "    #print(cleaned_document)\n",
    "    #print(type(cleaned_document))\n",
    "    #print(len(cleaned_document))\n",
    "\n",
    "#Create a document vector (in form of list)\n",
    "doc_vectors=[process_document(document)\n",
    "             for document in row_doc]\n",
    "\n",
    "#print(row_doc[0])\n",
    "#print(doc_vectors[0])\n",
    "print(doc_vectors)"
   ]
  },
  {
   "cell_type": "markdown",
   "metadata": {},
   "source": [
    "Convert into corpora dictionary"
   ]
  },
  {
   "cell_type": "code",
   "execution_count": 102,
   "metadata": {},
   "outputs": [
    {
     "name": "stdout",
     "output_type": "stream",
     "text": [
      "Dictionary(47 unique tokens: ['18', '25', 'analysts', 'copies', 'forecast']...)\n",
      "Inspect words and corresponding id\n",
      "{'18': 0, '25': 1, 'analysts': 2, 'copies': 3, 'forecast': 4, 'million': 5, 'month.': 6, 'sell': 7, '“cyberpunk”': 8, 'biggest': 9, 'company.': 10, 'cyberpunk': 11, 'expensive': 12, 'project': 13, 'two-decade-old': 14, 'videogame': 15, 'big-budget': 16, 'caused': 17, 'challenges': 18, 'citing': 19, 'crisis': 20, 'developers': 21, 'factor.': 22, 'game': 23, 'games': 24, 'health': 25, 'it': 26, 'key': 27, 'players': 28, 'postponed': 29, 'prominent': 30, 'publishers': 31, 'refunds': 32, 'releases.several': 33, 'seek': 34, 'suggest': 35, 'unusual': 36, 'work-from-home': 37, 'year': 38, 'company': 39, 'franchise': 40, 'major': 41, 'old.': 42, 'release': 43, 'the': 44, 'witcher': 45, 'years': 46}\n"
     ]
    }
   ],
   "source": [
    "corpora_dict = corpora.Dictionary(doc_vector_split)\n",
    "print(corpora_dict)\n",
    "\n",
    "print('Inspect words and corresponding id')\n",
    "print(corpora_dict.token2id)"
   ]
  },
  {
   "cell_type": "code",
   "execution_count": 107,
   "metadata": {},
   "outputs": [
    {
     "name": "stdout",
     "output_type": "stream",
     "text": [
      "['analysts', 'forecast', '“cyberpunk”', 'sell', '18', 'million', '25', 'million', 'copies', 'month.']\n",
      "[(0, 1), (1, 1), (2, 1), (3, 1), (4, 1), (5, 2), (6, 1), (7, 1), (8, 1)]\n"
     ]
    }
   ],
   "source": [
    "#Create corpus\n",
    "corpus = []\n",
    "for element in doc_vector_split:\n",
    "    a = corpora_dict.doc2bow(element)\n",
    "    corpus.append(a)\n",
    "    \n",
    "#print(corpora)\n",
    "print(doc_vector_split[0]) \n",
    "print(corpus[0])\n",
    "#The former digit shows the indexed position the words occur in the element(document); the latter, the total amount they occur"
   ]
  },
  {
   "cell_type": "markdown",
   "metadata": {},
   "source": [
    "Build LSI model"
   ]
  },
  {
   "cell_type": "code",
   "execution_count": 141,
   "metadata": {},
   "outputs": [
    {
     "name": "stdout",
     "output_type": "stream",
     "text": [
      "[[ 0.28867513  0.          0.          0.        ]\n",
      " [-0.28867513  0.          0.          0.        ]\n",
      " [ 0.28867513  0.          0.          0.        ]\n",
      " [-0.28867513  0.          0.          0.        ]]\n",
      "MatrixSimilarity<4 docs, 47 features>\n"
     ]
    },
    {
     "data": {
      "text/plain": [
       "'\\nfor ind in sim_index:\\n    print(ind)\\n'"
      ]
     },
     "execution_count": 141,
     "metadata": {},
     "output_type": "execute_result"
    }
   ],
   "source": [
    "from gensim import models, similarities\n",
    "from gensim.similarities import Similarity\n",
    "\n",
    "#Model\n",
    "lsi_model = models.LsiModel(corpus, id2word = corpora_dict)\n",
    "\n",
    "#Similarity index: Cosine similarity in this case\n",
    "#sim_index = Similarity('-Similarity Index', corpus = corpus, num_features = len(corpora_dict))\n",
    "sim_index =  similarities.MatrixSimilarity(corpus)\n",
    "print(sim_index[lsi_model[corpus]])\n",
    "print(sim_index)\n",
    "\n",
    "'''\n",
    "for ind in sim_index:\n",
    "    print(ind)\n",
    "'''"
   ]
  },
  {
   "cell_type": "code",
   "execution_count": 118,
   "metadata": {},
   "outputs": [
    {
     "name": "stdout",
     "output_type": "stream",
     "text": [
      "<gensim.interfaces.TransformedCorpus object at 0x0000023660F30A48>\n",
      "MatrixSimilarity<4 docs, 47 features>\n",
      "<class 'gensim.similarities.docsim.MatrixSimilarity'>\n"
     ]
    }
   ],
   "source": [
    "print(lsi_model[corpus])\n",
    "print(sim_index)\n",
    "print(type(sim_index))"
   ]
  },
  {
   "cell_type": "markdown",
   "metadata": {},
   "source": [
    "Testing the new data"
   ]
  },
  {
   "cell_type": "code",
   "execution_count": 142,
   "metadata": {},
   "outputs": [
    {
     "name": "stdout",
     "output_type": "stream",
     "text": [
      "['Cyberpunk', 'is', 'the', 'most', 'amazing', 'game', 'ever', 'in', 'this', 'year']\n",
      "[[0.         0.         0.2407717  0.30860668]]\n"
     ]
    }
   ],
   "source": [
    "new_data = \"Cyberpunk is the most amazing game ever in this year\"#\"Joe Biden is the projected winner of 2020 Presidential Election.\"\n",
    "\n",
    "#Process the new data\n",
    "new_data = new_data.split()\n",
    "print(new_data)\n",
    "new_corpus = [corpora_dict.doc2bow(new_data)]\n",
    "\n",
    "#Create an LSI Representation\n",
    "vec_lsi = lsi_model[new_corpus]  \n",
    "\n",
    "print(sim_index[new_corpus])"
   ]
  },
  {
   "cell_type": "code",
   "execution_count": 143,
   "metadata": {},
   "outputs": [
    {
     "name": "stdout",
     "output_type": "stream",
     "text": [
      "Sorted Document index : [[0 1 2 3]\n",
      " [0 1 3 2]\n",
      " [0 2 3 1]\n",
      " [1 2 3 0]]\n",
      "\n",
      " ------------------------------------------------------------ \n",
      "\n"
     ]
    },
    {
     "ename": "ValueError",
     "evalue": "shapes (4,47) and (4,) not aligned: 47 (dim 1) != 4 (dim 0)",
     "output_type": "error",
     "traceback": [
      "\u001b[1;31m---------------------------------------------------------------------------\u001b[0m",
      "\u001b[1;31mValueError\u001b[0m                                Traceback (most recent call last)",
      "\u001b[1;32m<ipython-input-143-dbe46625d26c>\u001b[0m in \u001b[0;36m<module>\u001b[1;34m\u001b[0m\n\u001b[0;32m      6\u001b[0m \u001b[1;33m\u001b[0m\u001b[0m\n\u001b[0;32m      7\u001b[0m \u001b[1;32mfor\u001b[0m \u001b[0mi\u001b[0m \u001b[1;32min\u001b[0m \u001b[0mmatches\u001b[0m\u001b[1;33m:\u001b[0m\u001b[1;33m\u001b[0m\u001b[1;33m\u001b[0m\u001b[0m\n\u001b[1;32m----> 8\u001b[1;33m     \u001b[0mprint\u001b[0m\u001b[1;33m(\u001b[0m\u001b[0msim_index\u001b[0m\u001b[1;33m[\u001b[0m\u001b[0mi\u001b[0m\u001b[1;33m]\u001b[0m\u001b[1;33m,\u001b[0m \u001b[1;34m\" -> \"\u001b[0m\u001b[1;33m,\u001b[0m \u001b[0mrow_doc\u001b[0m\u001b[1;33m[\u001b[0m\u001b[0mi\u001b[0m\u001b[1;33m]\u001b[0m\u001b[1;33m)\u001b[0m\u001b[1;33m\u001b[0m\u001b[1;33m\u001b[0m\u001b[0m\n\u001b[0m\u001b[0;32m      9\u001b[0m \u001b[1;33m\u001b[0m\u001b[0m\n\u001b[0;32m     10\u001b[0m \u001b[0mprint\u001b[0m\u001b[1;33m(\u001b[0m\u001b[1;34m\"\\n\"\u001b[0m\u001b[1;33m,\u001b[0m \u001b[1;34m\"-\"\u001b[0m\u001b[1;33m*\u001b[0m\u001b[1;36m60\u001b[0m\u001b[1;33m,\u001b[0m \u001b[1;34m\"\\n\"\u001b[0m\u001b[1;33m)\u001b[0m\u001b[1;33m\u001b[0m\u001b[1;33m\u001b[0m\u001b[0m\n",
      "\u001b[1;32m~\\anaconda3\\lib\\site-packages\\gensim\\interfaces.py\u001b[0m in \u001b[0;36m__getitem__\u001b[1;34m(self, query)\u001b[0m\n\u001b[0;32m    338\u001b[0m                 \u001b[1;32melse\u001b[0m\u001b[1;33m:\u001b[0m\u001b[1;33m\u001b[0m\u001b[1;33m\u001b[0m\u001b[0m\n\u001b[0;32m    339\u001b[0m                     \u001b[0mquery\u001b[0m \u001b[1;33m=\u001b[0m \u001b[0mmatutils\u001b[0m\u001b[1;33m.\u001b[0m\u001b[0munitvec\u001b[0m\u001b[1;33m(\u001b[0m\u001b[0mquery\u001b[0m\u001b[1;33m)\u001b[0m\u001b[1;33m\u001b[0m\u001b[1;33m\u001b[0m\u001b[0m\n\u001b[1;32m--> 340\u001b[1;33m         \u001b[0mresult\u001b[0m \u001b[1;33m=\u001b[0m \u001b[0mself\u001b[0m\u001b[1;33m.\u001b[0m\u001b[0mget_similarities\u001b[0m\u001b[1;33m(\u001b[0m\u001b[0mquery\u001b[0m\u001b[1;33m)\u001b[0m\u001b[1;33m\u001b[0m\u001b[1;33m\u001b[0m\u001b[0m\n\u001b[0m\u001b[0;32m    341\u001b[0m \u001b[1;33m\u001b[0m\u001b[0m\n\u001b[0;32m    342\u001b[0m         \u001b[1;32mif\u001b[0m \u001b[0mself\u001b[0m\u001b[1;33m.\u001b[0m\u001b[0mnum_best\u001b[0m \u001b[1;32mis\u001b[0m \u001b[1;32mNone\u001b[0m\u001b[1;33m:\u001b[0m\u001b[1;33m\u001b[0m\u001b[1;33m\u001b[0m\u001b[0m\n",
      "\u001b[1;32m~\\anaconda3\\lib\\site-packages\\gensim\\similarities\\docsim.py\u001b[0m in \u001b[0;36mget_similarities\u001b[1;34m(self, query)\u001b[0m\n\u001b[0;32m    874\u001b[0m         \u001b[1;31m# do a little transposition dance to stop numpy from making a copy of\u001b[0m\u001b[1;33m\u001b[0m\u001b[1;33m\u001b[0m\u001b[1;33m\u001b[0m\u001b[0m\n\u001b[0;32m    875\u001b[0m         \u001b[1;31m# self.index internally in numpy.dot (very slow).\u001b[0m\u001b[1;33m\u001b[0m\u001b[1;33m\u001b[0m\u001b[1;33m\u001b[0m\u001b[0m\n\u001b[1;32m--> 876\u001b[1;33m         \u001b[0mresult\u001b[0m \u001b[1;33m=\u001b[0m \u001b[0mnumpy\u001b[0m\u001b[1;33m.\u001b[0m\u001b[0mdot\u001b[0m\u001b[1;33m(\u001b[0m\u001b[0mself\u001b[0m\u001b[1;33m.\u001b[0m\u001b[0mindex\u001b[0m\u001b[1;33m,\u001b[0m \u001b[0mquery\u001b[0m\u001b[1;33m.\u001b[0m\u001b[0mT\u001b[0m\u001b[1;33m)\u001b[0m\u001b[1;33m.\u001b[0m\u001b[0mT\u001b[0m  \u001b[1;31m# return #queries x #index\u001b[0m\u001b[1;33m\u001b[0m\u001b[1;33m\u001b[0m\u001b[0m\n\u001b[0m\u001b[0;32m    877\u001b[0m         \u001b[1;32mreturn\u001b[0m \u001b[0mresult\u001b[0m  \u001b[1;31m# XXX: removed casting the result from array to list; does anyone care?\u001b[0m\u001b[1;33m\u001b[0m\u001b[1;33m\u001b[0m\u001b[0m\n\u001b[0;32m    878\u001b[0m \u001b[1;33m\u001b[0m\u001b[0m\n",
      "\u001b[1;32m<__array_function__ internals>\u001b[0m in \u001b[0;36mdot\u001b[1;34m(*args, **kwargs)\u001b[0m\n",
      "\u001b[1;31mValueError\u001b[0m: shapes (4,47) and (4,) not aligned: 47 (dim 1) != 4 (dim 0)"
     ]
    }
   ],
   "source": [
    "#sort an array in reverse order and get indexes\n",
    "matches=np.argsort(sim_index)[::-1] \n",
    "print(\"Sorted Document index :\", matches)\n",
    "\n",
    "print(\"\\n\", \"-\"*60, \"\\n\")\n",
    "\n",
    "for i in matches:\n",
    "    print(sim_index[i], \" -> \", row_doc[i])\n",
    "\n",
    "print(\"\\n\", \"-\"*60, \"\\n\")"
   ]
  },
  {
   "cell_type": "code",
   "execution_count": null,
   "metadata": {},
   "outputs": [],
   "source": []
  },
  {
   "cell_type": "code",
   "execution_count": null,
   "metadata": {},
   "outputs": [],
   "source": []
  },
  {
   "cell_type": "code",
   "execution_count": 23,
   "metadata": {},
   "outputs": [
    {
     "name": "stdout",
     "output_type": "stream",
     "text": [
      "Analysts had forecast that “Cyberpunk” would sell anywhere from 18 million to 25 million copies in its first month.\n",
      "Cyberpunk is the biggest and most expensive project yet for the more than two-decade-old videogame company.\n",
      "It is unusual for game publishers to suggest players seek refunds for their big-budget releases.Several other prominent developers postponed games this year, citing work-from-home challenges caused by the health crisis as a key factor.\n",
      "The company has only one other major franchise, The Witcher, and its last major release is now five years old.\n"
     ]
    }
   ],
   "source": [
    "for element in row_doc_df[0]:\n",
    "    print(element)"
   ]
  },
  {
   "cell_type": "code",
   "execution_count": 44,
   "metadata": {},
   "outputs": [
    {
     "name": "stdout",
     "output_type": "stream",
     "text": [
      "Analysts had forecast that “Cyberpunk” would sell anywhere from 18 million to 25 million copies in its first month.\n",
      "Cyberpunk is the biggest and most expensive project yet for the more than two-decade-old videogame company.\n",
      "It is unusual for game publishers to suggest players seek refunds for their big-budget releases.Several other prominent developers postponed games this year, citing work-from-home challenges caused by the health crisis as a key factor.\n",
      "The company has only one other major franchise, The Witcher, and its last major release is now five years old.\n"
     ]
    }
   ],
   "source": [
    "for element in row_doc_ser:\n",
    "    print(element)"
   ]
  }
 ],
 "metadata": {
  "kernelspec": {
   "display_name": "Python 3",
   "language": "python",
   "name": "python3"
  },
  "language_info": {
   "codemirror_mode": {
    "name": "ipython",
    "version": 3
   },
   "file_extension": ".py",
   "mimetype": "text/x-python",
   "name": "python",
   "nbconvert_exporter": "python",
   "pygments_lexer": "ipython3",
   "version": "3.7.6"
  }
 },
 "nbformat": 4,
 "nbformat_minor": 4
}
