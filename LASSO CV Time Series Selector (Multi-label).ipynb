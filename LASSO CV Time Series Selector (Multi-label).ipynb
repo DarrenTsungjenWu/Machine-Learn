{
 "cells": [
  {
   "cell_type": "code",
   "execution_count": 1,
   "metadata": {},
   "outputs": [],
   "source": [
    "from sklearn.linear_model import Lasso\n",
    "from sklearn.linear_model import LassoCV\n",
    "from sklearn.feature_selection import SelectFromModel\n",
    "from sklearn.datasets import make_classification\n",
    "import pandas as pd\n",
    "import numpy as np\n",
    "import matplotlib.pyplot as plt\n",
    "from matplotlib import pyplot\n",
    "import math\n",
    "from sklearn.model_selection import TimeSeriesSplit\n",
    "#from sklearn.linear_model import PoissonRegressor\n",
    "#from sklearn.linear_model import TweedieRegressor\n",
    "import statsmodels.api as sm\n",
    "import statsmodels.formula.api as smf"
   ]
  },
  {
   "cell_type": "markdown",
   "metadata": {},
   "source": [
    "# Demo for Prototype"
   ]
  },
  {
   "cell_type": "code",
   "execution_count": 5,
   "metadata": {},
   "outputs": [],
   "source": [
    "def LASSOCV_Selection(X, Y, n_CV):\n",
    "    \n",
    "    '1. set up cross validation argument for Lasso CV model to tune the parameter of penalised term automatedly.'\n",
    "    '2. Fit the data into Lasso CV model and obtain the selected/important features.'\n",
    "    tscv = TimeSeriesSplit(n_splits = n_CV) #Time series split for time series data only.\n",
    "    lassocv = LassoCV(cv = tscv)\n",
    "    lassocv.fit(X, Y)\n",
    "    lasso_selector = SelectFromModel(estimator = lassocv, \n",
    "                          prefit = True, \n",
    "                          max_features = 10)\n",
    "\n",
    "    lasso_index = lasso_selector.get_support(indices = True)\n",
    "    \n",
    "    '''\n",
    "    #Second method for step 1 and 2> The version without preserving infor,ation about lasso(cv) model.\n",
    "    #It is used when there is no need to realise the path and parameter of Lasso CV used.\n",
    "    lasso_selector = SelectFromModel(LassoCV(cv = tscv), max_features = 10)\n",
    "    lasso_selector.fit(X, Y)\n",
    "    lasso_index = lasso_selector.get_support(indices = True)\n",
    "    print('For modelling extraction, the impactful features are:', lasso_index)\n",
    "    '''\n",
    "    \n",
    "    '3. For interpretation, fit the selected features into GLM - Poisson - model.'\n",
    "    'Note: It is considered that the esitmation from LASSO model can never or seldom be interpreted but prediction.'\n",
    "    selected_feature = X.iloc[:, lasso_index]\n",
    "    selected_feature1 = sm.add_constant(selected_feature) # adding a constant\n",
    "    poisson_model = sm.GLM(Y, selected_feature1, family = sm.families.Poisson())\n",
    "    result = poisson_model.fit()\n",
    "    \n",
    "    #Extract the exact coefficient values and preserve it into an array - for plotting.\n",
    "    coef = []\n",
    "    for v in range(1, len(lasso_index)+1):\n",
    "        coef.append(result.params.values[v])\n",
    "    coef = np.array(coef) #Final outcomes formatted in array.\n",
    "    \n",
    "    '4. Plot the estimated coefficient'\n",
    "    #Plot the estimated coefficient.\n",
    "    dset = pd.DataFrame()\n",
    "    dset['attr'] = X.columns[lasso_index]\n",
    "    dset['Coefficient'] = coef.T #Transform array by replacing column/row by row/column.\n",
    "    dset = dset.sort_values(by = 'Coefficient', ascending=False)\n",
    "\n",
    "    plt.figure(figsize = (9, 12))\n",
    "    plt.yticks(fontsize = 11)\n",
    "    plt.barh(y = dset['attr'], width = dset['Coefficient'], color = '#1976D2')\n",
    "    #plt.title('Test ', fontsize=20, fontweight='bold', pad=20)\n",
    "    plt.xlabel('Coefficient', fontsize = 14, labelpad = 20)\n",
    "    plt.ylabel('Name of Important Features', fontsize = 14, labelpad = 20)\n",
    "    plt.show()\n",
    "    \n",
    "    '5. Plot the resulting probability'\n",
    "    #Probability transformation: http://www.haowang.pw/blog/Poisson-Coefficient-Interpretation/\n",
    "    prob = []\n",
    "    for i in range(len(coef.T)):\n",
    "        prob_value = math.exp(coef.T[i]) - 1 \n",
    "        prob.append(prob_value)\n",
    "        prob_arr = np.array(prob) #Must transform into array to plot against feature neame.\n",
    "\n",
    "    dset['Prob'] = prob_arr\n",
    "    dset = dset.sort_values(by = 'Coefficient', ascending = False)\n",
    "\n",
    "    plt.figure(figsize = (9, 12))\n",
    "    plt.yticks(fontsize = 11)\n",
    "    plt.barh(y = dset['attr'], width=dset['Prob'], color='#1976D2')\n",
    "    #plt.title('Test ', fontsize=20, fontweight='bold', pad=20)\n",
    "    plt.xlabel('P(Y|factor)', fontsize = 14, labelpad = 20)\n",
    "    plt.ylabel('Name of Important Features', fontsize = 14, labelpad=20)\n",
    "    plt.show()"
   ]
  },
  {
   "cell_type": "code",
   "execution_count": 70,
   "metadata": {},
   "outputs": [],
   "source": [
    "X, Y = make_classification(n_samples=1000, n_features=30, n_classes = 10, n_clusters_per_class = 1,\n",
    "                           n_informative = 4, random_state = 1)\n",
    "\n",
    "X = pd.DataFrame(X)\n",
    "Y = pd.DataFrame(Y)"
   ]
  },
  {
   "cell_type": "code",
   "execution_count": 7,
   "metadata": {},
   "outputs": [
    {
     "name": "stderr",
     "output_type": "stream",
     "text": [
      "C:\\Users\\ASUS\\anaconda3\\lib\\site-packages\\sklearn\\linear_model\\_coordinate_descent.py:1088: DataConversionWarning: A column-vector y was passed when a 1d array was expected. Please change the shape of y to (n_samples, ), for example using ravel().\n",
      "  y = column_or_1d(y, warn=True)\n"
     ]
    },
    {
     "data": {
      "image/png": "[encoded data removed]",
      "text/plain": [
       "<Figure size 648x864 with 1 Axes>"
      ]
     },
     "metadata": {
      "needs_background": "light"
     },
     "output_type": "display_data"
    },
    {
     "data": {
      "image/png": "[encoded data removed]",
      "text/plain": [
       "<Figure size 648x864 with 1 Axes>"
      ]
     },
     "metadata": {
      "needs_background": "light"
     },
     "output_type": "display_data"
    }
   ],
   "source": [
    "LASSOCV_Selection(X, Y, n_CV = 2)"
   ]
  },
  {
   "cell_type": "markdown",
   "metadata": {},
   "source": [
    "# Testing Area"
   ]
  },
  {
   "cell_type": "code",
   "execution_count": 2,
   "metadata": {},
   "outputs": [],
   "source": [
    "X, Y = make_classification(n_samples=1000, n_features=30, n_classes = 10, n_clusters_per_class = 1,\n",
    "                           n_informative = 4, random_state = 1)\n",
    "\n",
    "X = pd.DataFrame(X)\n",
    "Y = pd.DataFrame(Y)\n",
    "#print(X)\n",
    "#print(Y)"
   ]
  },
  {
   "cell_type": "code",
   "execution_count": 3,
   "metadata": {},
   "outputs": [
    {
     "name": "stdout",
     "output_type": "stream",
     "text": [
      "[ 0 16]\n"
     ]
    }
   ],
   "source": [
    "#Test: for LASSO without CV > The optimal lamda is not defined.\n",
    "lasso_no_cv = Lasso()\n",
    "lasso_no_cv.fit(X, Y)\n",
    "sel_n = SelectFromModel(estimator = lasso_no_cv, prefit = True, max_features = 10)\n",
    "\n",
    "s_n = sel_n.get_support(indices = True)\n",
    "print(s_n)"
   ]
  },
  {
   "cell_type": "code",
   "execution_count": 4,
   "metadata": {},
   "outputs": [
    {
     "name": "stdout",
     "output_type": "stream",
     "text": [
      "[ 0  7 16 29]\n",
      "[-0.42284864 -0.         -0.          0.         -0.         -0.\n",
      "  0.         -0.09318465 -0.          0.          0.          0.\n",
      " -0.          0.          0.         -0.         -0.59226382 -0.\n",
      " -0.         -0.         -0.          0.         -0.         -0.\n",
      "  0.         -0.         -0.          0.         -0.          0.135478  ]\n"
     ]
    },
    {
     "name": "stderr",
     "output_type": "stream",
     "text": [
      "C:\\Users\\ASUS\\anaconda3\\lib\\site-packages\\sklearn\\linear_model\\_coordinate_descent.py:1088: DataConversionWarning: A column-vector y was passed when a 1d array was expected. Please change the shape of y to (n_samples, ), for example using ravel().\n",
      "  y = column_or_1d(y, warn=True)\n"
     ]
    }
   ],
   "source": [
    "'''\n",
    "tscv = TimeSeriesSplit(n_splits = 2)\n",
    "\n",
    "lasso_selector = SelectFromModel(LassoCV(cv = tscv), max_features = 10)\n",
    "lasso_selector.fit(X, Y)\n",
    "'''\n",
    "\n",
    "tscv = TimeSeriesSplit(n_splits = 3)\n",
    "lasso = LassoCV(cv = tscv)\n",
    "lasso.fit(X, Y)\n",
    "sel = SelectFromModel(estimator = lasso, \n",
    "                          prefit = True, \n",
    "                          max_features = 10)\n",
    "\n",
    "s = sel.get_support(indices = True)\n",
    "print(s)\n",
    "\n",
    "#print(lasso.alpha_)\n",
    "#print(lasso.alphas_)\n",
    "\n",
    "print(lasso.coef_)"
   ]
  },
  {
   "cell_type": "code",
   "execution_count": 12,
   "metadata": {},
   "outputs": [
    {
     "name": "stdout",
     "output_type": "stream",
     "text": [
      "[ True False False False False False False  True False False False False\n",
      " False False False False  True False False False False False False False\n",
      " False False False False False  True]\n",
      "[ 0  7 16 29]\n"
     ]
    }
   ],
   "source": [
    "lasso_support = lasso_selector.get_support()     \n",
    "lasso_index = lasso_selector.get_support(indices = True)\n",
    "print(lasso_support)\n",
    "print(lasso_index)"
   ]
  },
  {
   "cell_type": "code",
   "execution_count": 31,
   "metadata": {},
   "outputs": [],
   "source": [
    "selected_feature = X.iloc[:, lasso_index]\n",
    "selected_feature1 = sm.add_constant(selected_feature) # adding a constant\n",
    "\n",
    "poisson_model = sm.GLM(Y, selected_feature1, family = sm.families.Poisson())\n",
    "result = poisson_model.fit()\n"
   ]
  },
  {
   "cell_type": "code",
   "execution_count": 32,
   "metadata": {},
   "outputs": [
    {
     "name": "stdout",
     "output_type": "stream",
     "text": [
      "const    1.451658\n",
      "0       -0.109368\n",
      "7       -0.030592\n",
      "16      -0.138759\n",
      "29       0.058038\n",
      "dtype: float64\n"
     ]
    }
   ],
   "source": [
    "print(result.params)"
   ]
  },
  {
   "cell_type": "code",
   "execution_count": 35,
   "metadata": {},
   "outputs": [
    {
     "data": {
      "text/plain": [
       "-0.10936805691225683"
      ]
     },
     "execution_count": 35,
     "metadata": {},
     "output_type": "execute_result"
    }
   ],
   "source": [
    "result.params.values[1]"
   ]
  },
  {
   "cell_type": "code",
   "execution_count": 51,
   "metadata": {},
   "outputs": [
    {
     "name": "stdout",
     "output_type": "stream",
     "text": [
      "[-0.10936805691225683, -0.030592354163447466, -0.13875881445696495, 0.05803846899596113]\n",
      "<class 'numpy.ndarray'>\n"
     ]
    }
   ],
   "source": [
    "coef = []\n",
    "for v in range(1, len(lasso_index)+1):\n",
    "    coef.append(result.params.values[v])\n",
    "    \n",
    "print(coef)\n",
    "\n",
    "coef = np.array(coef)\n",
    "print(type(coef))"
   ]
  },
  {
   "cell_type": "code",
   "execution_count": 52,
   "metadata": {},
   "outputs": [
    {
     "data": {
      "image/png": "[encoded data removed]",
      "text/plain": [
       "<Figure size 648x864 with 1 Axes>"
      ]
     },
     "metadata": {
      "needs_background": "light"
     },
     "output_type": "display_data"
    }
   ],
   "source": [
    "#Plot the estimated coefficient.\n",
    "dset = pd.DataFrame()\n",
    "dset['attr'] = X.columns[lasso_index]\n",
    "dset['Coefficient'] = coef.T #Transform array by replacing column/row by row/column.\n",
    "dset = dset.sort_values(by = 'Coefficient', ascending=False)\n",
    "\n",
    "plt.figure(figsize = (9, 12))\n",
    "plt.yticks(fontsize = 11)\n",
    "plt.barh(y = dset['attr'], width = dset['Coefficient'], color = '#1976D2')\n",
    "#plt.title('Test ', fontsize=20, fontweight='bold', pad=20)\n",
    "plt.xlabel('Coefficient', fontsize = 14, labelpad = 20)\n",
    "plt.ylabel('Name of Important Features', fontsize = 14, labelpad = 20)\n",
    "plt.show()"
   ]
  },
  {
   "cell_type": "code",
   "execution_count": 54,
   "metadata": {},
   "outputs": [
    {
     "data": {
      "image/png": "[encoded data removed]",
      "text/plain": [
       "<Figure size 648x864 with 1 Axes>"
      ]
     },
     "metadata": {
      "needs_background": "light"
     },
     "output_type": "display_data"
    }
   ],
   "source": [
    "#Plot estimated probability\n",
    "#Probability transformation: http://www.haowang.pw/blog/Poisson-Coefficient-Interpretation/\n",
    "prob = []\n",
    "for i in range(len(coef.T)):\n",
    "    prob_value = math.exp(coef.T[i]) - 1 \n",
    "    prob.append(prob_value)\n",
    "    prob_arr = np.array(prob) #Must transform into array to plot against feature neame.\n",
    "\n",
    "dset['Prob'] = prob_arr\n",
    "dset = dset.sort_values(by = 'Coefficient', ascending = False)\n",
    "\n",
    "plt.figure(figsize = (9, 12))\n",
    "plt.yticks(fontsize = 11)\n",
    "plt.barh(y = dset['attr'], width=dset['Prob'], color='#1976D2')\n",
    "#plt.title('Test ', fontsize=20, fontweight='bold', pad=20)\n",
    "plt.xlabel('P(Y|factor)', fontsize = 14, labelpad = 20)\n",
    "plt.ylabel('Name of Important Features', fontsize = 14, labelpad=20)\n",
    "plt.show()\n",
    "    "
   ]
  },
  {
   "cell_type": "code",
   "execution_count": 55,
   "metadata": {},
   "outputs": [
    {
     "name": "stdout",
     "output_type": "stream",
     "text": [
      "[-0.10359957 -0.03012914 -0.12956206  0.05975576]\n"
     ]
    }
   ],
   "source": [
    "print(prob_arr)"
   ]
  },
  {
   "cell_type": "code",
   "execution_count": null,
   "metadata": {},
   "outputs": [],
   "source": []
  }
 ],
 "metadata": {
  "kernelspec": {
   "display_name": "Python 3",
   "language": "python",
   "name": "python3"
  },
  "language_info": {
   "codemirror_mode": {
    "name": "ipython",
    "version": 3
   },
   "file_extension": ".py",
   "mimetype": "text/x-python",
   "name": "python",
   "nbconvert_exporter": "python",
   "pygments_lexer": "ipython3",
   "version": "3.7.6"
  }
 },
 "nbformat": 4,
 "nbformat_minor": 4
}
